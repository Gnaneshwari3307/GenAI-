{
 "cells": [
  {
   "cell_type": "markdown",
   "metadata": {},
   "source": [
    "\n",
    "\n"
   ]
  },
  {
   "cell_type": "markdown",
   "metadata": {},
   "source": [
    "# Prompt Template Prompting\n",
    "\n",
    "Prompt Template Prompting refers to a technique where predefined templates are used to construct effective prompts that guide large language models (LLMs) to generate responses tailored to specific use cases. The templates typically contain static text combined with dynamic input variables, allowing for consistent, reusable, and customizable prompts.\n",
    "\n",
    "Prompt templates are widely used across various domains, such as:\n",
    "* **Question Generation**: Templates can generate quiz questions by filling in variables related to topics.\n",
    "* **Text Summarization**: Static instructions combined with variable documents or inputs allow flexible summarization.\n",
    "* **Coding Assistance**: Dynamic prompts help LLMs generate code snippets for different programming tasks.\n",
    "\n",
    "## References:\n",
    "\n",
    "* (OpenAI Documentation for Prompt Engineering)[https://platform.openai.com/docs/guides/prompt-engineering]"
   ]
  },
  {
   "cell_type": "markdown",
   "metadata": {},
   "source": [
    "## Running this code on MyBind.org\n",
    "\n",
    "Note: remember that you will need to **adjust CONFIG** with **proper URL and API_KEY**!\n",
    "\n",
    "[![Binder](https://mybinder.org/badge_logo.svg)](https://mybinder.org/v2/gh/GenILab-FAU/prompt-eng/HEAD?urlpath=%2Fdoc%2Ftree%2Fprompt-eng%2Fprompt_template.ipynb)\n"
   ]
  },
  {
   "cell_type": "code",
   "execution_count": 1,
   "metadata": {},
   "outputs": [
    {
     "name": "stdout",
     "output_type": "stream",
     "text": [
      "{'model': 'llama3.2:latest', 'prompt': 'You are a software architect. Perform a detailed requirement analysis for the following project:\\nDevelop a web-based Carbon Credit Trading Platform where employees earn credits for eco-friendly travel, track trips via APIs, and employers can trade credits.\\nEnsure the response is well-structured, separating functional and non-functional requirements, constraints, and dependencies.', 'stream': False, 'options': {'temperature': 0.7, 'num_ctx': 200, 'num_predict': 300}}\n",
      "**Project Requirements Analysis: Carbon Credit Trading Platform**\n",
      "\n",
      "**Overview**\n",
      "----------\n",
      "\n",
      "The proposed web-based Carbon Credit Trading Platform will enable employees to earn credits for eco-friendly travel, track trips via APIs, and employers can trade credits. The platform aims to promote sustainable practices and reduce carbon emissions.\n",
      "\n",
      "**Functional Requirements**\n",
      "-------------------------\n",
      "\n",
      "### Employee Module\n",
      "\n",
      "1. **Registration**: Employees must register with the platform, providing basic information such as name, email, and password.\n",
      "2. **Travel Booking**: Employees can book eco-friendly travel options (e.g., flights, trains, buses) through the platform.\n",
      "3. **Trip Tracking**: After booking a trip, employees can track their journey's carbon footprint and earn credits based on the distance traveled.\n",
      "4. **Credit Redemption**: Employees can redeem their earned credits for rewards or charitable donations.\n",
      "\n",
      "### Employer Module\n",
      "\n",
      "1. **Company Profile**: Employers must create a company profile, including basic information such as company name, address, and contact details.\n",
      "2. **Employee Management**: Employers can manage their employees' registrations, track employee journeys, and monitor the cumulative carbon footprint of their organization.\n",
      "3. **Reward Scheme Setup**: Employers can set up a reward scheme to incentivize their employees for reducing their carbon footprint.\n",
      "\n",
      "### Dashboard\n",
      "\n",
      "1. **Overview**: A dashboard that displays an overview of all trips taken by employees and employers, including total distance traveled and accumulated carbon credits.\n",
      "2. **Graphical Representation**: A graphical representation showing the trend of employee journeys over time\n",
      "Time taken: 35.726s\n"
     ]
    }
   ],
   "source": [
    "##\n",
    "## PROMPT TEMPLATE PROMPTING\n",
    "##\n",
    "\n",
    "from _pipeline import create_payload, model_req\n",
    "\n",
    "#### (1) Adjust the inbounding  Prompt, simulating inbounding requests from users or other systems\n",
    "MESSAGE = \"Develop a web-based Carbon Credit Trading Platform where employees earn credits for eco-friendly travel, track trips via APIs, and employers can trade credits.\"\n",
    "\n",
    "#### (2) Adjust the Prompt Engineering Technique to be applied, simulating Workflow Templates\n",
    "TEMPLATE_BEFORE = \"You are a software architect. Perform a detailed requirement analysis for the following project:\"\n",
    "TEMPLATE_AFTER = \"Ensure the response is well-structured, separating functional and non-functional requirements, constraints, and dependencies.\"\n",
    "\n",
    "PROMPT = TEMPLATE_BEFORE + '\\n' + MESSAGE + '\\n' + TEMPLATE_AFTER\n",
    "\n",
    "#### (3) Configure the Model request, simulating Workflow Orchestration\n",
    "# Documentation: https://github.com/ollama/ollama/blob/main/docs/api.md\n",
    "payload = create_payload(target=\"ollama\",\n",
    "                         model=\"llama3.2:latest\", \n",
    "                         prompt=PROMPT, \n",
    "                         temperature=0.7, \n",
    "                         num_ctx=200, \n",
    "                         num_predict=300)\n",
    "\n",
    "### YOU DONT NEED TO CONFIGURE ANYTHING ELSE FROM THIS POINT\n",
    "# Send out to the model\n",
    "time, response = model_req(payload=payload)\n",
    "print(response)\n",
    "if time: print(f'Time taken: {time}s')"
   ]
  }
 ],
 "metadata": {
  "kernelspec": {
   "display_name": "base",
   "language": "python",
   "name": "python3"
  },
  "language_info": {
   "codemirror_mode": {
    "name": "ipython",
    "version": 3
   },
   "file_extension": ".py",
   "mimetype": "text/x-python",
   "name": "python",
   "nbconvert_exporter": "python",
   "pygments_lexer": "ipython3",
   "version": "3.12.4"
  }
 },
 "nbformat": 4,
 "nbformat_minor": 2
}
