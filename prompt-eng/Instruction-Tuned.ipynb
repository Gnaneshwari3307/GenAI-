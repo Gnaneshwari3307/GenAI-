{
 "cells": [
  {
   "cell_type": "markdown",
   "metadata": {},
   "source": [
    "# Instruction-Tuned Prompting\n",
    "Instruction-Tuned Prompting explicitly guides the model using detailed, structured instructions to ensure accurate, well-formatted responses. Instead of a general request, it provides clear steps for how the AI should respond.\n",
    "\n",
    "# The Effectiveness of This Approach Lies In:\n",
    "\n",
    "--The AI adheres to a systematic, step-by-step framework rather than producing an unstructured response.  \n",
    "--It minimizes ambiguity by explicitly delineating the expected response structure.  \n",
    "--The model demonstrates enhanced performance when provided with well-defined, precise instructions."
   ]
  },
  {
   "cell_type": "code",
   "execution_count": 3,
   "metadata": {},
   "outputs": [
    {
     "name": "stdout",
     "output_type": "stream",
     "text": [
      "{'model': 'llama3.2:latest', 'prompt': 'You are an AI Software Requirements Analyst. Your task is to generate a structured requirement analysis for **NeuraBot, an AI-powered Study Companion**.\\n\\n**Follow these instructions carefully:**\\n1. Functional Requirements (2 Unique Features)**\\n- List **5 distinct chatbot features** related to **study assistance, tutoring, or student engagement**.\\n- Each feature should provide **specific educational functionalities** (avoid generic chatbot features).\\n- Do **not repeat functionalities**.\\n2. Non-Functional Requirements (2 Key Aspects)**\\n- **Security**: Describe **data encryption, user authentication, and privacy measures**.\\n- **Scalability**: Explain how the system should **handle multiple users efficiently**.\\n- **User Experience**: Include aspects like **smooth navigation, accessibility, and intuitive design**.\\n3. Formatting**\\n- Use structured bullet points.\\n- Do not repeat points between Functional and Non-Functional sections.\\n- Do not add extra explanations or conclusions.\\n\\nNow, generate the structured requirement analysis for **NeuraBot** following these instructions.', 'stream': False, 'options': {'temperature': 0.7, 'num_ctx': 512, 'num_predict': 800}}\n",
      "**Functional Requirements**\n",
      "\n",
      "• **Personalized Learning Plans**: NeuraBot generates tailored learning plans based on a user's strengths, weaknesses, and learning style. The system should be able to analyze user data from various sources (e.g., educational records, online assessments) to provide recommendations for improving their academic performance.\n",
      "\n",
      "• **Real-time Feedback Sessions**: NeuraBot conducts interactive feedback sessions with users, providing immediate guidance and correction on their responses. This feature should include AI-powered tools that detect errors, ambiguities, or areas for improvement in the user's answers.\n",
      "\n",
      "• **Virtual Study Group Management**: NeuraBot facilitates virtual study groups, allowing users to collaborate with peers and receive support from mentors. The system should enable group members to share resources, discuss topics, and track progress collectively.\n",
      "\n",
      "**Non-Functional Requirements**\n",
      "\n",
      "• **Security**: Data encryption is applied to all user interactions, ensuring confidentiality and integrity of sensitive information. User authentication involves a multi-factor approach (e.g., password, biometric scan, knowledge quiz) to prevent unauthorized access. Privacy measures include automatic data deletion after a specified period and anonymous reporting mechanisms for concerns or issues.\n",
      "\n",
      "• **Scalability**: The system is designed to handle multiple users efficiently through load balancing, caching, and content delivery networks (CDNs). A distributed architecture ensures that user data is stored across multiple servers, reducing the risk of single-point failures. Regular software updates and automated backups ensure the system remains available and secure even during periods of high usage.\n",
      "\n",
      "• **Accessibility**: The platform adheres to Web Content Accessibility Guidelines (WCAG 2.1) to provide an inclusive experience for users with disabilities. Keyboard navigation, high contrast mode, and screen reader compatibility are implemented to ensure seamless interaction.\n",
      "Time taken: 45.343s\n"
     ]
    }
   ],
   "source": [
    "##\n",
    "## INSTRUCTION-TUNED PROMPTING\n",
    "##\n",
    "\n",
    "from _pipeline import create_payload, model_req\n",
    "\n",
    "INSTRUCTION_TUNED_PROMPT = \"\"\"You are an AI Software Requirements Analyst. Your task is to generate a structured requirement analysis for **NeuraBot, an AI-powered Study Companion**.\n",
    "\n",
    "**Follow these instructions carefully:**\n",
    "1. Functional Requirements (2 Unique Features)**\n",
    "- List **5 distinct chatbot features** related to **study assistance, tutoring, or student engagement**.\n",
    "- Each feature should provide **specific educational functionalities** (avoid generic chatbot features).\n",
    "- Do **not repeat functionalities**.\n",
    "2. Non-Functional Requirements (2 Key Aspects)**\n",
    "- **Security**: Describe **data encryption, user authentication, and privacy measures**.\n",
    "- **Scalability**: Explain how the system should **handle multiple users efficiently**.\n",
    "- **User Experience**: Include aspects like **smooth navigation, accessibility, and intuitive design**.\n",
    "3. Formatting**\n",
    "- Use structured bullet points.\n",
    "- Do not repeat points between Functional and Non-Functional sections.\n",
    "- Do not add extra explanations or conclusions.\n",
    "\n",
    "Now, generate the structured requirement analysis for **NeuraBot** following these instructions.\"\"\"\n",
    "\n",
    "\n",
    "#### (1) Adjust the inbounding Prompt, simulating inbounding requests from users or other systems\n",
    "PROMPT = INSTRUCTION_TUNED_PROMPT  \n",
    "\n",
    "#### (2) Configure the Model request, simulating Workflow Orchestration\n",
    "payload = create_payload(target=\"ollama\",\n",
    "                         model=\"llama3.2:latest\", \n",
    "                         prompt=PROMPT, \n",
    "                         temperature=0.7,  # Ensures strict adherence to instructions\n",
    "                         num_ctx=512,  # Increased context to capture detailed instructions\n",
    "                         num_predict=800)  # Ensures full structured response\n",
    "\n",
    "### YOU DON’T NEED TO CONFIGURE ANYTHING ELSE FROM THIS POINT\n",
    "# Send out to the model\n",
    "time, response = model_req(payload=payload)\n",
    "print(response)\n",
    "print(f'Time taken: {time}s')\n"
   ]
  }
 ],
 "metadata": {
  "kernelspec": {
   "display_name": "base",
   "language": "python",
   "name": "python3"
  },
  "language_info": {
   "codemirror_mode": {
    "name": "ipython",
    "version": 3
   },
   "file_extension": ".py",
   "mimetype": "text/x-python",
   "name": "python",
   "nbconvert_exporter": "python",
   "pygments_lexer": "ipython3",
   "version": "3.12.4"
  }
 },
 "nbformat": 4,
 "nbformat_minor": 2
}
