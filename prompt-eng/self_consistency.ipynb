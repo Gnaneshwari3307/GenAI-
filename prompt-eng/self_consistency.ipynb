{
 "cells": [
  {
   "cell_type": "markdown",
   "metadata": {},
   "source": [
    "\n",
    "\n"
   ]
  },
  {
   "cell_type": "markdown",
   "metadata": {},
   "source": [
    "# Self Consistency Prompting\n",
    "\n",
    "One of the more advanced techniques in prompt engineering is self-consistency, introduced by `Wang et al. (2022)`. \n",
    "\n",
    "This method seeks to improve upon the traditional greedy decoding typically used in chain-of-thought (CoT) prompting. \n",
    "\n",
    "The core concept involves sampling multiple diverse reasoning paths through few-shot CoT and leveraging these variations to determine the most consistent answer. The technique  enhances the effectiveness of CoT prompting, particularly for tasks requiring arithmetic and commonsense reasoning.\n",
    "\n",
    "## References:\n",
    "* [Wang et al. (2022)](https://arxiv.org/abs/2203.11171)"
   ]
  },
  {
   "cell_type": "markdown",
   "metadata": {},
   "source": [
    "## Running this code on MyBind.org\n",
    "\n",
    "Note: remember that you will need to **adjust CONFIG** with **proper URL and API_KEY**!\n",
    "\n",
    "[![Binder](https://mybinder.org/badge_logo.svg)](https://mybinder.org/v2/gh/GenILab-FAU/prompt-eng/HEAD?urlpath=%2Fdoc%2Ftree%2Fprompt-eng%2Fself_consistency.ipynb)\n",
    "\n"
   ]
  },
  {
   "cell_type": "code",
   "execution_count": 20,
   "metadata": {},
   "outputs": [
    {
     "name": "stdout",
     "output_type": "stream",
     "text": [
      "{'model': 'llama3.2:latest', 'prompt': 'Generate a structured requirement analysis for NeuraBot, an AI-powered Study Companion.  \\nList **Functional** and **Non-Functional** Requirements.  \\n- **Functional:** List the 5 core chatbot features concisely.  \\n- **Non-Functional: Cover Security, Scalability, and User Experience in a structured but compact format.  \\nKeep the response compact and avoid excessive details.', 'stream': False, 'options': {'temperature': 0.8999999999999999, 'num_ctx': 400, 'num_predict': 800}}\n",
      "**NeuraBot Study Companion Requirement Analysis**\n",
      "\n",
      "**Functional Requirements:**\n",
      "\n",
      "1. **Learning Path Planning**: AI-powered recommendation engine to suggest customized learning paths for users based on their strengths, weaknesses, and learning goals.\n",
      "2. **Question Answering**: Ability to understand natural language queries and provide accurate, relevant answers related to study material (e.g., textbook chapters, notes).\n",
      "3. **Discussion Moderation**: AI-driven moderation of discussions to ensure respectful dialogue and prevent cheating or misinformation sharing.\n",
      "4. **Personalized Feedback**: Analysis of user performance data to provide actionable feedback on areas of improvement.\n",
      "5. **Integration with Learning Resources**: Seamless integration with popular learning platforms (e.g., Moodle, Canvas) to access relevant study materials.\n",
      "\n",
      "**Non-Functional Requirements:**\n",
      "\n",
      "1. **Security**:\n",
      "\t* Data encryption and secure storage of user information\n",
      "\t* Access controls for administrators and moderators\n",
      "\t* Regular vulnerability assessments and penetration testing\n",
      "2. **Scalability**:\n",
      "\t* Ability to handle increasing user traffic without significant performance degradation\n",
      "\t* Automated scaling of resources (e.g., servers, databases) based on demand\n",
      "\t* Load balancing and content delivery network (CDN) integration for high availability\n",
      "3. **User Experience**:\n",
      "\t* Intuitive interface with clear navigation and minimal cognitive load\n",
      "\t* Personalized recommendations and feedback to enhance learning engagement\n",
      "\t* Accessibility features for users with disabilities (e.g., screen reader support, high contrast mode)\n",
      "\n",
      "These requirements provide a foundation for designing and developing an effective and user-friendly online learning platform.\n",
      "Time taken: 31.247s\n"
     ]
    }
   ],
   "source": [
    "##\n",
    "## ZERO SHOT PROMPTING\n",
    "##\n",
    "\n",
    "from _pipeline import create_payload, model_req\n",
    "\n",
    "#### (1) Adjust the inbounding  Prompt, simulating inbounding requests from users or other systems\n",
    "MESSAGE = \"\"\"Generate a structured requirement analysis for NeuraBot, an AI-powered Study Companion.  \n",
    "List **Functional** and **Non-Functional** Requirements.  \n",
    "- **Functional:** List the 5 core chatbot features concisely.  \n",
    "- **Non-Functional: Cover Security, Scalability, and User Experience in a structured but compact format.  \n",
    "Keep the response compact and avoid excessive details.\"\"\"\n",
    "\n",
    "#### (2) Adjust the Prompt Engineering Technique to be applied, simulating Workflow Templates\n",
    "\n",
    "## @TODO \n",
    "PROMPT = MESSAGE \n",
    "\n",
    "#### (3) Configure the Model request, simulating Workflow Orchestration\n",
    "# Documentation: https://github.com/ollama/ollama/blob/main/docs/api.md\n",
    "payload = create_payload(target=\"ollama\",\n",
    "                             model=\"llama3.2:latest\", \n",
    "                             prompt=PROMPT, \n",
    "                             temperature=0.7 + (i * 0.1),  # Varied temperatures for diverse reasoning\n",
    "                             num_ctx=400, \n",
    "                             num_predict=800)\n",
    "\n",
    "### YOU DONT NEED TO CONFIGURE ANYTHING ELSE FROM THIS POINT\n",
    "# Send out to the model\n",
    "time, response = model_req(payload=payload)\n",
    "print(response)\n",
    "if time: print(f'Time taken: {time}s')"
   ]
  }
 ],
 "metadata": {
  "kernelspec": {
   "display_name": "base",
   "language": "python",
   "name": "python3"
  },
  "language_info": {
   "codemirror_mode": {
    "name": "ipython",
    "version": 3
   },
   "file_extension": ".py",
   "mimetype": "text/x-python",
   "name": "python",
   "nbconvert_exporter": "python",
   "pygments_lexer": "ipython3",
   "version": "3.12.4"
  }
 },
 "nbformat": 4,
 "nbformat_minor": 2
}
