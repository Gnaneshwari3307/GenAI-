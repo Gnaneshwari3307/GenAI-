{
 "cells": [
  {
   "cell_type": "markdown",
   "metadata": {},
   "source": [
    "\n",
    "\n"
   ]
  },
  {
   "cell_type": "markdown",
   "metadata": {},
   "source": [
    "# Chain-of-Thought Prompting\n",
    "\n",
    "Chain-of-Thought (CoT) prompting enhances complex reasoning by encouraging the model to break down problems into intermediate reasoning steps. When combined with few-shot prompting, it can significantly improve performance on tasks that require multi-step reasoning before arriving at a response.\n",
    "\n",
    "## Automatic Chain-of-Thought (Auto-CoT)\n",
    "\n",
    "Traditionally, using CoT prompting with demonstrations involves manually crafting diverse and effective examples. This manual effort is time-consuming and can lead to less-than-optimal results. To address this, Zhang et al. (2022) introduced Auto-CoT, an automated approach that minimizes manual involvement. Their method uses the prompt “Let’s think step by step” to generate reasoning chains automatically for demonstrations. However, this automatic process is not immune to errors. To reduce the impact of such mistakes, the approach emphasizes the importance of diverse demonstrations.\n",
    "\n",
    "Auto-CoT operates in two main stages:\n",
    "\n",
    "1. **Question Clustering:** Questions from the dataset are grouped into clusters based on similarity or relevance.\n",
    "2. **Demonstration Sampling:** A representative question from each cluster is selected, and its reasoning chain is generated using Zero-Shot-CoT guided by simple heuristics.\n",
    "\n",
    "\n",
    "## References:\n",
    "\n",
    "* (Wei et al. (2022),)[https://arxiv.org/abs/2201.11903]\n",
    "* (OpenAI Documentation for Prompt Engineering)[https://platform.openai.com/docs/guides/prompt-engineering]"
   ]
  },
  {
   "cell_type": "markdown",
   "metadata": {},
   "source": [
    "## Running this code on MyBind.org\n",
    "\n",
    "Note: remember that you will need to **adjust CONFIG** with **proper URL and API_KEY**!\n",
    "\n",
    "[![Binder](https://mybinder.org/badge_logo.svg)](https://mybinder.org/v2/gh/GenILab-FAU/prompt-eng/HEAD?urlpath=%2Fdoc%2Ftree%2Fprompt-eng%2Fchain_of_thought.ipynb)\n"
   ]
  },
  {
   "cell_type": "code",
   "execution_count": 5,
   "metadata": {},
   "outputs": [
    {
     "name": "stdout",
     "output_type": "stream",
     "text": [
      "{'model': 'llama3.2:latest', 'prompt': \"\\nTo design an AI-powered chatbot like NeuraBot, we must break down the system requirements step by step.\\n\\nStep 1: Identify core Functional Requirements based on chatbot capabilities.\\n- The chatbot must assist students in scheduling study sessions, answering subject-related questions, and tracking progress.\\n- It should integrate with external educational resources for enhanced learning.\\n\\nStep 2: Define Non-Functional Requirements that ensure a seamless experience.\\n- The chatbot must be scalable to handle multiple users simultaneously.\\n- Security should include user authentication and encrypted data storage.\\n- Performance should ensure fast response times and minimal latency.\\n\\nStep 3: Confirm that all necessary aspects are covered.\\n- If a requirement enhances learning, user engagement, or efficiency, include it.\\n- Remove any redundant features that do not contribute to the chatbot's core function.\\n\\nNow, generate a structured requirement analysis for NeuraBot using the insights above.\\nProvide a well-structured response with Functional and Non-Functional Requirements clearly separated.\\n\", 'stream': False, 'options': {'temperature': 0.5, 'num_ctx': 420, 'num_predict': 900}}\n",
      "**NeuraBot Requirement Analysis**\n",
      "\n",
      "**Functional Requirements:**\n",
      "\n",
      "1. **Study Session Scheduling**\n",
      "\t* The chatbot should be able to schedule study sessions with users, taking into account their availability and preferences.\n",
      "\t* Integration with external calendars (e.g., Google Calendar) for seamless scheduling.\n",
      "2. **Subject-Related Question Answering**\n",
      "\t* The chatbot should have access to a vast knowledge base of subject-related questions and answers.\n",
      "\t* Ability to provide accurate and relevant responses to user queries.\n",
      "3. **Progress Tracking**\n",
      "\t* The chatbot should be able to track users' progress, including completed study sessions, notes, and feedback.\n",
      "\t* Integration with external learning management systems (LMS) for seamless data exchange.\n",
      "4. **Integration with External Educational Resources**\n",
      "\t* NeuraBot should integrate with various educational resources, such as online textbooks, videos, and articles.\n",
      "\t* Ability to provide users with relevant content and links to enhance their learning experience.\n",
      "\n",
      "**Non-Functional Requirements:**\n",
      "\n",
      "1. **Security and Data Protection**\n",
      "\t* The chatbot should ensure the confidentiality, integrity, and availability of user data.\n",
      "\t* Adherence to industry-standard security protocols and encryption methods.\n",
      "2. **User Experience**\n",
      "\t* NeuraBot should provide an intuitive and user-friendly interface for users to interact with.\n",
      "\t* Ability to adapt to different user preferences and learning styles.\n",
      "3. **Scalability and Performance**\n",
      "\t* The chatbot should be able to handle a large number of concurrent users without compromising performance.\n",
      "\t* Ability to scale up or down based on demand, ensuring optimal user experience.\n",
      "4. **Usability and Accessibility**\n",
      "\t* NeuraBot should be accessible on various devices (e.g., desktops, laptops, mobile devices) and browsers.\n",
      "\t* Adherence to Web Content Accessibility Guidelines (WCAG 2.1) for improved accessibility.\n",
      "\n",
      "**Additional Requirements:**\n",
      "\n",
      "1. **Continuous Learning and Improvement**\n",
      "\t* NeuraBot should have the ability to learn from user interactions and adapt to new knowledge domains.\n",
      "\t* Regular updates and maintenance to ensure the chatbot remains relevant and effective.\n",
      "2. **Integration with Existing Systems**\n",
      "\t* NeuraBot should be able to integrate seamlessly with existing systems, such as CRM or LMS platforms.\n",
      "\n",
      "These requirements will serve as a foundation for designing and developing an effective and user-friendly conversational AI system that meets the needs of your users.\n",
      "Time taken: 60.053s\n"
     ]
    }
   ],
   "source": [
    "##\n",
    "## CHAIN-OF-THOUGHT PROMPTING\n",
    "##\n",
    "\n",
    "from _pipeline import create_payload, model_req\n",
    "\n",
    "#### (1) Adjust the inbounding Prompt, simulating inbounding requests from users or other systems\n",
    "MESSAGE = \"NeuraBot is an AI-powered Study Companion. Generate a structured requirement analysis.\"\n",
    "\n",
    "#### (2) Adjust the Prompt Engineering Technique to be applied, simulating Workflow Templates\n",
    "CHAIN_OF_THOUGHT = \\\n",
    "f\"\"\"\n",
    "To design an AI-powered chatbot like NeuraBot, we must break down the system requirements step by step.\n",
    "\n",
    "Step 1: Identify core Functional Requirements based on chatbot capabilities.\n",
    "- The chatbot must assist students in scheduling study sessions, answering subject-related questions, and tracking progress.\n",
    "- It should integrate with external educational resources for enhanced learning.\n",
    "\n",
    "Step 2: Define Non-Functional Requirements that ensure a seamless experience.\n",
    "- The chatbot must be scalable to handle multiple users simultaneously.\n",
    "- Security should include user authentication and encrypted data storage.\n",
    "- Performance should ensure fast response times and minimal latency.\n",
    "\n",
    "Step 3: Confirm that all necessary aspects are covered.\n",
    "- If a requirement enhances learning, user engagement, or efficiency, include it.\n",
    "- Remove any redundant features that do not contribute to the chatbot's core function.\n",
    "\n",
    "Now, generate a structured requirement analysis for NeuraBot using the insights above.\n",
    "Provide a well-structured response with Functional and Non-Functional Requirements clearly separated.\n",
    "\"\"\"\n",
    "\n",
    "PROMPT = CHAIN_OF_THOUGHT  \n",
    "\n",
    "#### (3) Configure the Model request, simulating Workflow Orchestration\n",
    "# Documentation: https://github.com/ollama/ollama/blob/main/docs/api.md\n",
    "payload = create_payload(target=\"ollama\",\n",
    "                         model=\"llama3.2:latest\", \n",
    "                         prompt=PROMPT, \n",
    "                         temperature=0.5,  # Lowered for better logical reasoning\n",
    "                         num_ctx=420,  # Increased context size for better step-by-step reasoning\n",
    "                         num_predict=900)  # Ensures full requirement generation\n",
    "\n",
    "### YOU DONT NEED TO CONFIGURE ANYTHING ELSE FROM THIS POINT\n",
    "# Send out to the model\n",
    "# Send out to the model\n",
    "time, response = model_req(payload=payload)\n",
    "print(response)\n",
    "if time: print(f'Time taken: {time}s')"
   ]
  }
 ],
 "metadata": {
  "kernelspec": {
   "display_name": "base",
   "language": "python",
   "name": "python3"
  },
  "language_info": {
   "codemirror_mode": {
    "name": "ipython",
    "version": 3
   },
   "file_extension": ".py",
   "mimetype": "text/x-python",
   "name": "python",
   "nbconvert_exporter": "python",
   "pygments_lexer": "ipython3",
   "version": "3.12.4"
  }
 },
 "nbformat": 4,
 "nbformat_minor": 2
}
