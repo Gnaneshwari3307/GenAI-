{
 "cells": [
  {
   "cell_type": "markdown",
   "metadata": {},
   "source": [
    "\n",
    "\n"
   ]
  },
  {
   "cell_type": "markdown",
   "metadata": {},
   "source": [
    "# Meta Prompting\n",
    "\n",
    "Meta prompting is an advanced technique in prompt engineering that emphasizes the structural and syntactical organization of tasks and problems rather than focusing on their specific content. The objective is to create a more abstract, form-driven way of engaging with large language models (LLMs), highlighting patterns and structure over traditional content-focused methods.\n",
    "\n",
    "As outlined by [Zhang et al. (2024)](https://arxiv.org/abs/2311.11482), the defining features of meta prompting include:\n",
    "\n",
    "* Structure-Oriented: Prioritizes the organization and pattern of problems and solutions instead of specific content.\n",
    "* Syntax-Guided: Leverages syntax as a template to shape the expected responses or solutions.\n",
    "* Abstract Frameworks: Uses abstract examples as blueprints, demonstrating the structure of tasks without relying on concrete details.\n",
    "* Domain Versatility: Can be applied across multiple fields, offering structured solutions to diverse problem types.\n",
    "* Categorical Approach: Draws on type theory to organize and categorize components logically, enhancing prompt coherence and precision."
   ]
  },
  {
   "cell_type": "markdown",
   "metadata": {},
   "source": [
    "## Running this code on MyBind.org\n",
    "\n",
    "Note: remember that you will need to **adjust CONFIG** with **proper URL and API_KEY**!\n",
    "\n",
    "[![Binder](https://mybinder.org/badge_logo.svg)](https://mybinder.org/v2/gh/GenILab-FAU/prompt-eng/HEAD?urlpath=%2Fdoc%2Ftree%2Fprompt-eng%2Fmeta.ipynb)\n",
    "\n"
   ]
  },
  {
   "cell_type": "code",
   "execution_count": 7,
   "metadata": {},
   "outputs": [
    {
     "name": "stdout",
     "output_type": "stream",
     "text": [
      "{'model': 'llama3.2:latest', 'prompt': 'You are an AI designed to generate effective prompts for requirement analysis.\\nGenerate a well-structured prompt that will instruct an AI to create a detailed requirement analysis for NeuraBot, an AI-powered Study Companion.\\n\\nThe prompt should ask the AI to:\\n- List **Functional** and **Non-Functional** Requirements.\\n- Keep the response **concise but complete**.\\n- Ensure that **Security, Scalability, and User Experience** are covered in the Non-Functional Requirements.\\n\\nProvide the generated prompt as output.', 'stream': False, 'options': {'temperature': 0.8, 'num_ctx': 100, 'num_predict': 150}}\n",
      "Here is the generated prompt:\n",
      "\n",
      "\"Create a comprehensive list of functional and non-functional requirements for a software application. Please break down the requirements into two sections: \n",
      "\n",
      "1. Functional Requirements: List all the specific features and functionalities that the application should have. Ensure they are clear, concise, and easy to understand.\n",
      "\n",
      "2. Non-Functional Requirements: Include the performance, security, usability, maintainability, and scalability aspects of the application. Also specify any other relevant non-functional requirements such as compatibility or accessibility.\n",
      "\n",
      "Your task is to write a short essay on the importance of understanding and following best practices for software development processes (Agile Development Methodology).\n",
      "Time taken: 15.905s\n"
     ]
    }
   ],
   "source": [
    "##\n",
    "## META PROMPTING\n",
    "##\n",
    "\n",
    "from _pipeline import create_payload, model_req\n",
    "\n",
    "#### (1) Adjust the inbounding  Prompt, simulating inbounding requests from users or other systems\n",
    "MESSAGE = \"\"\"You are an AI designed to generate effective prompts for requirement analysis.\n",
    "Generate a well-structured prompt that will instruct an AI to create a detailed requirement analysis for NeuraBot, an AI-powered Study Companion.\n",
    "\n",
    "The prompt should ask the AI to:\n",
    "- List **Functional** and **Non-Functional** Requirements.\n",
    "- Keep the response **concise but complete**.\n",
    "- Ensure that **Security, Scalability, and User Experience** are covered in the Non-Functional Requirements.\n",
    "\n",
    "Provide the generated prompt as output.\"\"\"\n",
    "\n",
    "#### (2) Adjust the Prompt Engineering Technique to be applied, simulating Workflow Templates\n",
    "\n",
    "# @TODO TO BE COMPLETED\n",
    "PROMPT = MESSAGE \n",
    "\n",
    "#### (3) Configure the Model request, simulating Workflow Orchestration\n",
    "# Documentation: https://github.com/ollama/ollama/blob/main/docs/api.md\n",
    "payload = create_payload(target=\"ollama\",\n",
    "                         model=\"llama3.2:latest\", \n",
    "                         prompt=PROMPT, \n",
    "                         temperature=0.8, \n",
    "                         num_ctx=100, \n",
    "                         num_predict=150)\n",
    "\n",
    "### YOU DONT NEED TO CONFIGURE ANYTHING ELSE FROM THIS POINT\n",
    "# Send out to the model\n",
    "time, response = model_req(payload=payload)\n",
    "print(response)\n",
    "if time: print(f'Time taken: {time}s')"
   ]
  }
 ],
 "metadata": {
  "kernelspec": {
   "display_name": "base",
   "language": "python",
   "name": "python3"
  },
  "language_info": {
   "codemirror_mode": {
    "name": "ipython",
    "version": 3
   },
   "file_extension": ".py",
   "mimetype": "text/x-python",
   "name": "python",
   "nbconvert_exporter": "python",
   "pygments_lexer": "ipython3",
   "version": "3.12.4"
  }
 },
 "nbformat": 4,
 "nbformat_minor": 2
}
